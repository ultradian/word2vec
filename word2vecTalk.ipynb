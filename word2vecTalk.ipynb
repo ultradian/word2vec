{
 "cells": [
  {
   "cell_type": "markdown",
   "metadata": {},
   "source": [
    "# Intro and setup"
   ]
  },
  {
   "cell_type": "markdown",
   "metadata": {},
   "source": [
    "This notebook demonstrates the use of word2vec in Python using the  [gensim libraries](https://github.com/RaRe-Technologies/gensim).  Information is available on the [gensim website](https://radimrehurek.com/gensim/index.html) along with tutorials and the [API](https://radimrehurek.com/gensim/apiref.html). \n",
    "\n",
    "You can install them to your local machine using the command:\n",
    "```\n",
    "pip install --upgrade gensim\n",
    "```\n",
    "Of course if you are using a jupyter notebook, that doesn't mean it is installed in the correct place.  Make sure the `sys.path` command yields a location that matches the location of where the `pip install` occured.  Because the `sys.path` includes the current working directory, I use a `-t` flag to place the libraries in a location I can make the current working directory.  You could also theroretically append to `sys.path`"
   ]
  },
  {
   "cell_type": "markdown",
   "metadata": {},
   "source": [
    "Word2Vec was first presented in the paper: Mikolov, T., Chen, K., Corrado, G., & Dean, J. (2013). Efficient estimation of word representations in vector space. arXiv preprint arXiv:1301.3781.  Extensions were presented in the paper: Mikolov, T., Sutskever, I., Chen, K., Corrado, G. S., & Dean, J. (2013). Distributed representations of words and phrases and their compositionality. In Advances in neural information processing systems (pp. 3111-3119)."
   ]
  },
  {
   "cell_type": "code",
   "execution_count": 105,
   "metadata": {},
   "outputs": [
    {
     "data": {
      "text/plain": [
       "'/home/milton/programming/python/gensim'"
      ]
     },
     "execution_count": 105,
     "metadata": {},
     "output_type": "execute_result"
    }
   ],
   "source": [
    "import os\n",
    "os.getcwd()"
   ]
  },
  {
   "cell_type": "code",
   "execution_count": 106,
   "metadata": {},
   "outputs": [],
   "source": [
    "# access local libraries from directory\n",
    "os.chdir('/home/milton/programming/python/gensim/')"
   ]
  },
  {
   "cell_type": "code",
   "execution_count": 164,
   "metadata": {},
   "outputs": [
    {
     "data": {
      "text/plain": [
       "['word2vec.ipynb', '__pycache__', 'python_dateutil-2.7.3.dist-info', 'numpy', 'requests-2.19.1.dist-info', 'dateutil', 'idna', 'scipy-1.1.0.dist-info', 'jmespath-0.9.3.dist-info', 'boto', 'botocore', 'gensim-3.6.0.dist-info', 'file', 'idna-2.7.dist-info', 'jmespath', 'certifi-2018.8.24.dist-info', 'bz2file-0.98-py3.6.egg-info', 'chardet-3.0.4.dist-info', 'docutils-0.14.dist-info', 'bin', 'savedModelText8', 'urllib3-1.23.dist-info', 'smart_open', 'chardet', 'Tutorials.html', 'six-1.11.0.dist-info', 'requests', 'gensim', 'docutils', 'botocore-1.12.18.dist-info', 'boto3-1.9.18.dist-info', '.ipynb_checkpoints', 's3transfer-0.1.13.dist-info', 'bz2file.py', 'numpy-1.15.2.dist-info', '__init__.py', 'six.py', 'certifi', 'boto-2.49.0.dist-info', 'smart_open-1.7.1-py3.6.egg-info', 'scipy', 'boto3', 's3transfer', 'word2vecTalk.ipynb', 'urllib3']"
      ]
     },
     "execution_count": 164,
     "metadata": {},
     "output_type": "execute_result"
    }
   ],
   "source": [
    "# gensim library also requires numpy, scipy, requests, docutils\n",
    "os.listdir()"
   ]
  },
  {
   "cell_type": "markdown",
   "metadata": {},
   "source": [
    "# Data"
   ]
  },
  {
   "cell_type": "code",
   "execution_count": 9,
   "metadata": {},
   "outputs": [
    {
     "name": "stdout",
     "output_type": "stream",
     "text": [
      "Pretty printing has been turned OFF\n"
     ]
    }
   ],
   "source": [
    "# turn off pretty printing to get horizontal display\n",
    "%pprint"
   ]
  },
  {
   "cell_type": "markdown",
   "metadata": {},
   "source": [
    "## import data\n",
    "There are lots of possible data sources.  Gensim includes specific loaders for the [Brown corpus](https://radimrehurek.com/gensim/models/word2vec.html#gensim.models.word2vec.BrownCorpus) and Matt Mahoney's [text8 corpus](https://radimrehurek.com/gensim/models/word2vec.html#gensim.models.word2vec.Text8Corpus).  The Brown corpus is in the  widely used [Natural Language ToolKit](https://www.nltk.org/).  Text8 is a [cleaned text](http://mattmahoney.net/dc/textdata.html) 100MB selection of Wikipedia, getting rid of html tags, tables, spelling out numbers, etc.  It can be downloaded at http://mattmahoney.net/dc/text8.zip."
   ]
  },
  {
   "cell_type": "code",
   "execution_count": 108,
   "metadata": {},
   "outputs": [],
   "source": [
    "with open('/home/milton/data/wikidump/text8.txt', 'r') as f:\n",
    "    raw_data = f.read()"
   ]
  },
  {
   "cell_type": "code",
   "execution_count": 109,
   "metadata": {},
   "outputs": [
    {
     "data": {
      "text/plain": [
       "<class 'str'>"
      ]
     },
     "execution_count": 109,
     "metadata": {},
     "output_type": "execute_result"
    }
   ],
   "source": [
    "type(raw_data)"
   ]
  },
  {
   "cell_type": "code",
   "execution_count": 110,
   "metadata": {},
   "outputs": [
    {
     "data": {
      "text/plain": [
       "100000000"
      ]
     },
     "execution_count": 110,
     "metadata": {},
     "output_type": "execute_result"
    }
   ],
   "source": [
    "# yah, it is 100 MB\n",
    "len(raw_data)"
   ]
  },
  {
   "cell_type": "code",
   "execution_count": 111,
   "metadata": {},
   "outputs": [
    {
     "data": {
      "text/plain": [
       "' anarchism originated as a term of abuse first used against early working class radicals including the diggers of the english revolution and the sans culottes of the french revolution whilst the term is still used in a pejorative way to describe any act that used violent means to destroy the organization of society it has also been taken up as a positive label by self defined anarchists the word anarchism is derived from the greek without archons ruler chief king anarchism as a political philosophy is the belief that rulers are unnecessary and should be abolished although there are differing interpretations of what this means anarchism also refers to related social movements that advocate the elimination of authoritarian institutions particularly the state the word anarchy as most anarchists use it does not imply chaos nihilism or anomie but rather a harmonious anti authoritarian society in place of what are regarded as authoritarian political structures and coercive economic instituti'"
      ]
     },
     "execution_count": 111,
     "metadata": {},
     "output_type": "execute_result"
    }
   ],
   "source": [
    "raw_data[:1000]"
   ]
  },
  {
   "cell_type": "code",
   "execution_count": 114,
   "metadata": {},
   "outputs": [
    {
     "name": "stdout",
     "output_type": "stream",
     "text": [
      "CPU times: user 0 ns, sys: 0 ns, total: 0 ns\n",
      "Wall time: 4.05 µs\n"
     ]
    }
   ],
   "source": [
    "words = raw_data.split()"
   ]
  },
  {
   "cell_type": "code",
   "execution_count": 113,
   "metadata": {},
   "outputs": [
    {
     "data": {
      "text/plain": [
       "17005207"
      ]
     },
     "execution_count": 113,
     "metadata": {},
     "output_type": "execute_result"
    }
   ],
   "source": [
    "len(words)"
   ]
  },
  {
   "cell_type": "code",
   "execution_count": 116,
   "metadata": {},
   "outputs": [
    {
     "name": "stdout",
     "output_type": "stream",
     "text": [
      "CPU times: user 0 ns, sys: 0 ns, total: 0 ns\n",
      "Wall time: 4.77 µs\n"
     ]
    },
    {
     "data": {
      "text/plain": [
       "253854"
      ]
     },
     "execution_count": 116,
     "metadata": {},
     "output_type": "execute_result"
    }
   ],
   "source": [
    "# how many unique words?\n",
    "len(set(words))"
   ]
  },
  {
   "cell_type": "code",
   "execution_count": 117,
   "metadata": {},
   "outputs": [
    {
     "data": {
      "text/plain": [
       "['perineum', 'antiproliferative', 'sconces', 'bookshelf', 'assassinate', 'macaco', 'rhost', 'targu', 'olmedo', 'virek', 'vilmos', 'tsunetoshi', 'gaggle', 'roseninsel', 'sethianism', 'ovicidal', 'intertran', 'tinet', 'merrion', 'soviettes', 'levites', 'gianfrancesco', 'melton', 'aaui', 'ametller', 'interceptor', 'telos', 'kernighan', 'hitlerjugendf', 'hannes', 'dango', 'posford', 'sail', 'bayswater', 'debswana', 'meteorology', 'gradient', 'amar', 'porsches', 'vitebsk', 'stefanitag', 'afsnee', 'zaro', 'beus', 'reformism', 'annular', 'rasputina', 'germanisches', 'daramulum', 'axopods', 'skyservice', 'ashvattama', 'yasunori', 'cheer', 'bioherbicides', 'retinoids', 'dutiable', 'llewellyn', 'entactogens', 'flatworm', 'outfit', 'multilineata', 'beignets', 'andrew', 'situs', 'hoiberg', 'chattahoochee', 'milagro', 'pittura', 'nationalversammlung', 'vliet', 'marinho', 'mcgeady', 'coulee', 'klaatu', 'sexier', 'wojskowy', 'fractint', 'jnode', 'ortm', 'seminole', 'titusville', 'reasoning', 'eximia', 'dignitas', 'uhlenbroek', 'dacom', 'dakodonou', 'buttermilk', 'abidjan', 'kore', 'untenable', 'hermiae', 'octree', 'brines', 'crosssectional', 'schoendienst', 'utonagan', 'craigisla', 'csm']"
      ]
     },
     "execution_count": 117,
     "metadata": {},
     "output_type": "execute_result"
    }
   ],
   "source": [
    "list(set(words))[:100]"
   ]
  },
  {
   "cell_type": "markdown",
   "metadata": {},
   "source": [
    "# Gensim"
   ]
  },
  {
   "cell_type": "code",
   "execution_count": 2,
   "metadata": {},
   "outputs": [],
   "source": [
    "import gensim"
   ]
  },
  {
   "cell_type": "code",
   "execution_count": 12,
   "metadata": {},
   "outputs": [],
   "source": [
    "import logging\n",
    "logging.basicConfig(format='%(asctime)s : %(levelname)s : %(message)s', level=logging.INFO)"
   ]
  },
  {
   "cell_type": "markdown",
   "metadata": {},
   "source": [
    "## Setup data\n",
    "`gensim.models` takes a corpus broken into sentences.  I'm using the `Text8Corpus` iterator that comes as part of the `word2vec` class.  You can use any other data as long as you create an iterable to yield sentences."
   ]
  },
  {
   "cell_type": "code",
   "execution_count": 118,
   "metadata": {},
   "outputs": [],
   "source": [
    "sentences = gensim.models.word2vec.Text8Corpus('/home/milton/data/wikidump/text8.txt')"
   ]
  },
  {
   "cell_type": "markdown",
   "metadata": {},
   "source": [
    "## run model"
   ]
  },
  {
   "cell_type": "code",
   "execution_count": 122,
   "metadata": {},
   "outputs": [
    {
     "name": "stderr",
     "output_type": "stream",
     "text": [
      "2018-10-30 19:14:12,927 : INFO : collecting all words and their counts\n",
      "2018-10-30 19:14:12,929 : INFO : PROGRESS: at sentence #0, processed 0 words, keeping 0 word types\n",
      "2018-10-30 19:14:17,056 : INFO : collected 253854 word types from a corpus of 17005207 raw words and 1701 sentences\n",
      "2018-10-30 19:14:17,057 : INFO : Loading a fresh vocabulary\n",
      "2018-10-30 19:14:17,443 : INFO : effective_min_count=5 retains 71290 unique words (28% of original 253854, drops 182564)\n",
      "2018-10-30 19:14:17,444 : INFO : effective_min_count=5 leaves 16718844 word corpus (98% of original 17005207, drops 286363)\n",
      "2018-10-30 19:14:17,588 : INFO : deleting the raw counts dictionary of 253854 items\n",
      "2018-10-30 19:14:17,595 : INFO : sample=0.001 downsamples 38 most-common words\n",
      "2018-10-30 19:14:17,596 : INFO : downsampling leaves estimated 12506280 word corpus (74.8% of prior 16718844)\n",
      "2018-10-30 19:14:17,782 : INFO : estimated required memory for 71290 words and 100 dimensions: 92677000 bytes\n",
      "2018-10-30 19:14:17,783 : INFO : resetting layer weights\n",
      "2018-10-30 19:14:18,384 : INFO : training model with 3 workers on 71290 vocabulary and 100 features, using sg=0 hs=0 sample=0.001 negative=5 window=6\n",
      "2018-10-30 19:14:19,387 : INFO : EPOCH 1 - PROGRESS: at 8.58% examples, 1063521 words/s, in_qsize 5, out_qsize 0\n",
      "2018-10-30 19:14:20,387 : INFO : EPOCH 1 - PROGRESS: at 17.46% examples, 1085637 words/s, in_qsize 5, out_qsize 0\n",
      "2018-10-30 19:14:21,392 : INFO : EPOCH 1 - PROGRESS: at 26.46% examples, 1099012 words/s, in_qsize 5, out_qsize 0\n",
      "2018-10-30 19:14:22,394 : INFO : EPOCH 1 - PROGRESS: at 35.21% examples, 1101152 words/s, in_qsize 6, out_qsize 0\n",
      "2018-10-30 19:14:23,402 : INFO : EPOCH 1 - PROGRESS: at 44.09% examples, 1101807 words/s, in_qsize 5, out_qsize 0\n",
      "2018-10-30 19:14:24,418 : INFO : EPOCH 1 - PROGRESS: at 52.62% examples, 1093782 words/s, in_qsize 5, out_qsize 1\n",
      "2018-10-30 19:14:25,421 : INFO : EPOCH 1 - PROGRESS: at 61.49% examples, 1096368 words/s, in_qsize 6, out_qsize 0\n",
      "2018-10-30 19:14:26,423 : INFO : EPOCH 1 - PROGRESS: at 69.90% examples, 1090749 words/s, in_qsize 5, out_qsize 0\n",
      "2018-10-30 19:14:27,424 : INFO : EPOCH 1 - PROGRESS: at 78.84% examples, 1092050 words/s, in_qsize 5, out_qsize 0\n",
      "2018-10-30 19:14:28,427 : INFO : EPOCH 1 - PROGRESS: at 87.77% examples, 1094007 words/s, in_qsize 6, out_qsize 0\n",
      "2018-10-30 19:14:29,433 : INFO : EPOCH 1 - PROGRESS: at 96.59% examples, 1093968 words/s, in_qsize 5, out_qsize 0\n",
      "2018-10-30 19:14:29,793 : INFO : worker thread finished; awaiting finish of 2 more threads\n",
      "2018-10-30 19:14:29,796 : INFO : worker thread finished; awaiting finish of 1 more threads\n",
      "2018-10-30 19:14:29,800 : INFO : worker thread finished; awaiting finish of 0 more threads\n",
      "2018-10-30 19:14:29,801 : INFO : EPOCH - 1 : training on 17005207 raw words (12507020 effective words) took 11.4s, 1095727 effective words/s\n",
      "2018-10-30 19:14:30,805 : INFO : EPOCH 2 - PROGRESS: at 8.88% examples, 1098323 words/s, in_qsize 5, out_qsize 0\n",
      "2018-10-30 19:14:31,806 : INFO : EPOCH 2 - PROGRESS: at 17.81% examples, 1106159 words/s, in_qsize 6, out_qsize 0\n",
      "2018-10-30 19:14:32,811 : INFO : EPOCH 2 - PROGRESS: at 26.10% examples, 1083053 words/s, in_qsize 5, out_qsize 0\n",
      "2018-10-30 19:14:33,816 : INFO : EPOCH 2 - PROGRESS: at 34.92% examples, 1090210 words/s, in_qsize 5, out_qsize 0\n",
      "2018-10-30 19:14:34,818 : INFO : EPOCH 2 - PROGRESS: at 43.74% examples, 1092936 words/s, in_qsize 5, out_qsize 0\n",
      "2018-10-30 19:14:35,832 : INFO : EPOCH 2 - PROGRESS: at 52.56% examples, 1092829 words/s, in_qsize 4, out_qsize 1\n",
      "2018-10-30 19:14:36,833 : INFO : EPOCH 2 - PROGRESS: at 61.55% examples, 1098002 words/s, in_qsize 5, out_qsize 0\n",
      "2018-10-30 19:14:37,837 : INFO : EPOCH 2 - PROGRESS: at 70.43% examples, 1099168 words/s, in_qsize 6, out_qsize 0\n",
      "2018-10-30 19:14:38,839 : INFO : EPOCH 2 - PROGRESS: at 79.48% examples, 1101059 words/s, in_qsize 5, out_qsize 0\n",
      "2018-10-30 19:14:39,845 : INFO : EPOCH 2 - PROGRESS: at 87.77% examples, 1093719 words/s, in_qsize 5, out_qsize 0\n",
      "2018-10-30 19:14:40,850 : INFO : EPOCH 2 - PROGRESS: at 96.41% examples, 1091813 words/s, in_qsize 5, out_qsize 0\n",
      "2018-10-30 19:14:41,308 : INFO : worker thread finished; awaiting finish of 2 more threads\n",
      "2018-10-30 19:14:41,316 : INFO : worker thread finished; awaiting finish of 1 more threads\n",
      "2018-10-30 19:14:41,319 : INFO : worker thread finished; awaiting finish of 0 more threads\n",
      "2018-10-30 19:14:41,320 : INFO : EPOCH - 2 : training on 17005207 raw words (12505966 effective words) took 11.5s, 1085856 effective words/s\n",
      "2018-10-30 19:14:42,326 : INFO : EPOCH 3 - PROGRESS: at 7.70% examples, 952761 words/s, in_qsize 5, out_qsize 0\n",
      "2018-10-30 19:14:43,326 : INFO : EPOCH 3 - PROGRESS: at 16.23% examples, 1006926 words/s, in_qsize 5, out_qsize 0\n",
      "2018-10-30 19:14:44,327 : INFO : EPOCH 3 - PROGRESS: at 24.69% examples, 1024871 words/s, in_qsize 5, out_qsize 0\n",
      "2018-10-30 19:14:45,328 : INFO : EPOCH 3 - PROGRESS: at 32.69% examples, 1022001 words/s, in_qsize 5, out_qsize 0\n",
      "2018-10-30 19:14:46,334 : INFO : EPOCH 3 - PROGRESS: at 40.09% examples, 1002509 words/s, in_qsize 5, out_qsize 0\n",
      "2018-10-30 19:14:47,340 : INFO : EPOCH 3 - PROGRESS: at 48.38% examples, 1007991 words/s, in_qsize 5, out_qsize 0\n",
      "2018-10-30 19:14:48,361 : INFO : EPOCH 3 - PROGRESS: at 56.08% examples, 999592 words/s, in_qsize 5, out_qsize 1\n",
      "2018-10-30 19:14:49,367 : INFO : EPOCH 3 - PROGRESS: at 64.02% examples, 998223 words/s, in_qsize 6, out_qsize 0\n",
      "2018-10-30 19:14:50,369 : INFO : EPOCH 3 - PROGRESS: at 73.07% examples, 1013240 words/s, in_qsize 5, out_qsize 0\n",
      "2018-10-30 19:14:51,372 : INFO : EPOCH 3 - PROGRESS: at 82.13% examples, 1022954 words/s, in_qsize 5, out_qsize 0\n",
      "2018-10-30 19:14:52,378 : INFO : EPOCH 3 - PROGRESS: at 91.06% examples, 1030995 words/s, in_qsize 5, out_qsize 0\n",
      "2018-10-30 19:14:53,383 : INFO : EPOCH 3 - PROGRESS: at 99.88% examples, 1036012 words/s, in_qsize 2, out_qsize 1\n",
      "2018-10-30 19:14:53,384 : INFO : worker thread finished; awaiting finish of 2 more threads\n",
      "2018-10-30 19:14:53,386 : INFO : worker thread finished; awaiting finish of 1 more threads\n",
      "2018-10-30 19:14:53,391 : INFO : worker thread finished; awaiting finish of 0 more threads\n",
      "2018-10-30 19:14:53,392 : INFO : EPOCH - 3 : training on 17005207 raw words (12506287 effective words) took 12.1s, 1036208 effective words/s\n",
      "2018-10-30 19:14:54,401 : INFO : EPOCH 4 - PROGRESS: at 8.29% examples, 1021545 words/s, in_qsize 6, out_qsize 0\n",
      "2018-10-30 19:14:55,405 : INFO : EPOCH 4 - PROGRESS: at 16.64% examples, 1028591 words/s, in_qsize 4, out_qsize 1\n",
      "2018-10-30 19:14:56,421 : INFO : EPOCH 4 - PROGRESS: at 25.10% examples, 1034386 words/s, in_qsize 5, out_qsize 0\n",
      "2018-10-30 19:14:57,421 : INFO : EPOCH 4 - PROGRESS: at 33.16% examples, 1030913 words/s, in_qsize 5, out_qsize 0\n",
      "2018-10-30 19:14:58,433 : INFO : EPOCH 4 - PROGRESS: at 42.09% examples, 1046763 words/s, in_qsize 5, out_qsize 0\n",
      "2018-10-30 19:14:59,438 : INFO : EPOCH 4 - PROGRESS: at 49.79% examples, 1032896 words/s, in_qsize 4, out_qsize 0\n",
      "2018-10-30 19:15:00,438 : INFO : EPOCH 4 - PROGRESS: at 58.02% examples, 1032923 words/s, in_qsize 5, out_qsize 0\n",
      "2018-10-30 19:15:01,442 : INFO : EPOCH 4 - PROGRESS: at 66.31% examples, 1033171 words/s, in_qsize 6, out_qsize 0\n",
      "2018-10-30 19:15:02,447 : INFO : EPOCH 4 - PROGRESS: at 74.90% examples, 1037415 words/s, in_qsize 5, out_qsize 0\n",
      "2018-10-30 19:15:03,450 : INFO : EPOCH 4 - PROGRESS: at 83.89% examples, 1044256 words/s, in_qsize 5, out_qsize 0\n",
      "2018-10-30 19:15:04,452 : INFO : EPOCH 4 - PROGRESS: at 92.53% examples, 1047088 words/s, in_qsize 5, out_qsize 0\n",
      "2018-10-30 19:15:05,268 : INFO : worker thread finished; awaiting finish of 2 more threads\n",
      "2018-10-30 19:15:05,271 : INFO : worker thread finished; awaiting finish of 1 more threads\n",
      "2018-10-30 19:15:05,275 : INFO : worker thread finished; awaiting finish of 0 more threads\n",
      "2018-10-30 19:15:05,276 : INFO : EPOCH - 4 : training on 17005207 raw words (12506503 effective words) took 11.9s, 1052506 effective words/s\n",
      "2018-10-30 19:15:06,281 : INFO : EPOCH 5 - PROGRESS: at 8.88% examples, 1097347 words/s, in_qsize 5, out_qsize 0\n",
      "2018-10-30 19:15:07,283 : INFO : EPOCH 5 - PROGRESS: at 17.87% examples, 1109109 words/s, in_qsize 5, out_qsize 0\n",
      "2018-10-30 19:15:08,288 : INFO : EPOCH 5 - PROGRESS: at 26.87% examples, 1114786 words/s, in_qsize 6, out_qsize 0\n",
      "2018-10-30 19:15:09,289 : INFO : EPOCH 5 - PROGRESS: at 35.74% examples, 1116764 words/s, in_qsize 5, out_qsize 0\n",
      "2018-10-30 19:15:10,293 : INFO : EPOCH 5 - PROGRESS: at 44.74% examples, 1118286 words/s, in_qsize 5, out_qsize 0\n",
      "2018-10-30 19:15:11,294 : INFO : EPOCH 5 - PROGRESS: at 53.67% examples, 1118722 words/s, in_qsize 5, out_qsize 0\n",
      "2018-10-30 19:15:12,298 : INFO : EPOCH 5 - PROGRESS: at 62.67% examples, 1119592 words/s, in_qsize 5, out_qsize 0\n",
      "2018-10-30 19:15:13,298 : INFO : EPOCH 5 - PROGRESS: at 71.66% examples, 1120544 words/s, in_qsize 5, out_qsize 0\n",
      "2018-10-30 19:15:14,300 : INFO : EPOCH 5 - PROGRESS: at 80.72% examples, 1119848 words/s, in_qsize 5, out_qsize 0\n",
      "2018-10-30 19:15:15,306 : INFO : EPOCH 5 - PROGRESS: at 89.77% examples, 1120437 words/s, in_qsize 5, out_qsize 0\n",
      "2018-10-30 19:15:16,313 : INFO : EPOCH 5 - PROGRESS: at 98.82% examples, 1119926 words/s, in_qsize 5, out_qsize 0\n",
      "2018-10-30 19:15:16,424 : INFO : worker thread finished; awaiting finish of 2 more threads\n",
      "2018-10-30 19:15:16,428 : INFO : worker thread finished; awaiting finish of 1 more threads\n",
      "2018-10-30 19:15:16,432 : INFO : worker thread finished; awaiting finish of 0 more threads\n",
      "2018-10-30 19:15:16,432 : INFO : EPOCH - 5 : training on 17005207 raw words (12505811 effective words) took 11.2s, 1121075 effective words/s\n",
      "2018-10-30 19:15:16,433 : INFO : training on a 85026035 raw words (62531587 effective words) took 58.0s, 1077241 effective words/s\n"
     ]
    }
   ],
   "source": [
    "# run model\n",
    "model = gensim.models.Word2Vec(sentences, size = 100, window = 6, min_count=5, workers=3)"
   ]
  },
  {
   "cell_type": "code",
   "execution_count": 76,
   "metadata": {},
   "outputs": [
    {
     "name": "stderr",
     "output_type": "stream",
     "text": [
      "2018-10-30 11:12:42,191 : INFO : saving Word2Vec object under savedModelText8, separately None\n",
      "2018-10-30 11:12:42,198 : INFO : not storing attribute vectors_norm\n",
      "2018-10-30 11:12:42,215 : INFO : not storing attribute cum_table\n"
     ]
    },
    {
     "name": "stdout",
     "output_type": "stream",
     "text": [
      "CPU times: user 0 ns, sys: 0 ns, total: 0 ns\n",
      "Wall time: 11.7 µs\n"
     ]
    },
    {
     "name": "stderr",
     "output_type": "stream",
     "text": [
      "2018-10-30 11:12:43,293 : INFO : saved savedModelText8\n"
     ]
    }
   ],
   "source": [
    "# save it as binary\n",
    "model.save('savedModelText8')"
   ]
  },
  {
   "cell_type": "code",
   "execution_count": 123,
   "metadata": {},
   "outputs": [
    {
     "name": "stdout",
     "output_type": "stream",
     "text": [
      "Word2Vec(vocab=71290, size=100, alpha=0.025)\n"
     ]
    }
   ],
   "source": [
    "print(model)"
   ]
  },
  {
   "cell_type": "markdown",
   "metadata": {},
   "source": [
    "## Vocabulary"
   ]
  },
  {
   "cell_type": "code",
   "execution_count": 135,
   "metadata": {},
   "outputs": [],
   "source": [
    "# get list of word vectors\n",
    "words = list(model.wv.vocab)"
   ]
  },
  {
   "cell_type": "code",
   "execution_count": 138,
   "metadata": {},
   "outputs": [],
   "source": [
    "# get sorted list of word vectors\n",
    "words = list(model.wv.index2word)"
   ]
  },
  {
   "cell_type": "code",
   "execution_count": 139,
   "metadata": {},
   "outputs": [
    {
     "data": {
      "text/plain": [
       "71290"
      ]
     },
     "execution_count": 139,
     "metadata": {},
     "output_type": "execute_result"
    }
   ],
   "source": [
    "len(words)"
   ]
  },
  {
   "cell_type": "code",
   "execution_count": 140,
   "metadata": {},
   "outputs": [
    {
     "data": {
      "text/plain": [
       "['the', 'of', 'and', 'one', 'in', 'a', 'to', 'zero', 'nine', 'two', 'is', 'as', 'eight', 'for', 's', 'five', 'three', 'was', 'by', 'that', 'four', 'six', 'seven', 'with', 'on', 'are', 'it', 'from', 'or', 'his', 'an', 'be', 'this', 'which', 'at', 'he', 'also', 'not', 'have', 'were', 'has', 'but', 'other', 'their', 'its', 'first', 'they', 'some', 'had', 'all', 'more', 'most', 'can', 'been', 'such', 'many', 'who', 'new', 'used', 'there', 'after', 'when', 'into', 'american', 'time', 'these', 'only', 'see', 'may', 'than', 'world', 'i', 'b', 'would', 'd', 'no', 'however', 'between', 'about', 'over', 'years', 'states', 'people', 'war', 'during', 'united', 'known', 'if', 'called', 'use', 'th', 'system', 'often', 'state', 'so', 'history', 'will', 'up', 'while', 'where', 'city', 'being', 'english', 'then', 'any', 'both', 'under', 'out', 'made', 'well', 'her', 'e', 'number', 'government', 'them', 'm', 'later', 'since', 'him', 'part', 'name', 'c', 'century', 'through', 'because', 'x', 'university', 'early', 'life', 'british', 'year', 'like', 'same', 'including', 'became', 'example', 'day', 'each', 'even', 'work', 'language', 'although', 'several', 'form', 'john', 'u', 'national', 'very', 'much', 'g', 'french', 'before', 'general', 'what', 't', 'against', 'n', 'high', 'links', 'could', 'based', 'those', 'now', 'second', 'de', 'music', 'another', 'large', 'she', 'f', 'external', 'german', 'different', 'modern', 'great', 'do', 'common', 'set', 'list', 'south', 'series', 'major', 'game', 'power', 'long', 'country', 'king', 'law', 'group', 'film', 'still', 'until', 'north', 'international', 'term', 'we', 'end', 'book', 'found', 'own']"
      ]
     },
     "execution_count": 140,
     "metadata": {},
     "output_type": "execute_result"
    }
   ],
   "source": [
    "words[:200]"
   ]
  },
  {
   "cell_type": "code",
   "execution_count": 141,
   "metadata": {},
   "outputs": [
    {
     "data": {
      "text/plain": [
       "3"
      ]
     },
     "execution_count": 141,
     "metadata": {},
     "output_type": "execute_result"
    }
   ],
   "source": [
    "# check the index for a word\n",
    "model.wv.vocab['one'].index"
   ]
  },
  {
   "cell_type": "markdown",
   "metadata": {},
   "source": [
    "## Vectors"
   ]
  },
  {
   "cell_type": "code",
   "execution_count": 147,
   "metadata": {},
   "outputs": [
    {
     "data": {
      "text/plain": [
       "\u001b[0;31mType:\u001b[0m        Word2VecKeyedVectors\n",
       "\u001b[0;31mString form:\u001b[0m <gensim.models.keyedvectors.Word2VecKeyedVectors object at 0x7f8aa0c5f320>\n",
       "\u001b[0;31mFile:\u001b[0m        ~/programming/python/gensim/gensim/models/keyedvectors.py\n",
       "\u001b[0;31mDocstring:\u001b[0m  \n",
       "Mapping between words and vectors for the :class:`~gensim.models.Word2Vec` model.\n",
       "Used to perform operations on the vectors such as vector lookup, distance, similarity etc.\n"
      ]
     },
     "metadata": {},
     "output_type": "display_data"
    }
   ],
   "source": [
    "model.wv?"
   ]
  },
  {
   "cell_type": "code",
   "execution_count": 149,
   "metadata": {},
   "outputs": [
    {
     "data": {
      "text/plain": [
       "array([ 0.07799023, -0.31933305,  0.5495737 , -0.08271172,  0.33065677,\n",
       "        0.13488497,  0.81943583,  0.11385178,  0.57544446,  0.5176106 ,\n",
       "        0.46216252, -0.03041595, -1.1404728 ,  0.84579843,  2.3422627 ,\n",
       "       -1.0034747 , -0.1737026 ,  0.5258449 , -0.9533849 ,  1.7051234 ,\n",
       "        0.13693434,  1.1112723 , -0.5218365 , -0.47124708,  0.28735283,\n",
       "       -1.9138609 ,  1.6833236 ,  1.0821652 ,  0.5419477 ,  0.8939806 ,\n",
       "       -0.90089005, -1.4638139 , -3.267643  , -0.42839742,  0.3688768 ,\n",
       "       -1.2353276 , -0.28666767, -0.69865596, -0.02511278, -0.5974531 ,\n",
       "        0.73084515, -0.7190821 , -0.31115186, -0.6293131 ,  1.2822145 ,\n",
       "        0.02650458, -0.35107258,  1.8285064 , -1.1854329 ,  2.4672053 ,\n",
       "       -2.1989372 , -0.24737279,  0.32139033,  1.0759609 ,  0.13686177,\n",
       "       -0.82490003, -1.7601223 , -2.66142   ,  0.66603607, -0.14208189,\n",
       "        0.01184012, -1.9974691 ,  0.4787362 ,  2.374025  ,  0.7636947 ,\n",
       "       -1.123626  ,  0.48831147,  0.8691541 , -1.1698463 , -0.12818706,\n",
       "       -0.00706027,  0.45352632,  3.0881286 , -0.47397858, -1.2568607 ,\n",
       "       -0.55015534, -1.240863  , -1.3605118 ,  1.1130654 , -0.70114285,\n",
       "       -0.7763837 ,  0.36643952, -0.5866775 , -1.9861684 , -1.3746246 ,\n",
       "       -0.57018745, -0.19478889, -4.0753555 ,  0.45765704,  1.4216262 ,\n",
       "       -1.6707335 ,  2.1689093 , -0.5395609 ,  1.3238721 ,  1.8164139 ,\n",
       "       -1.5943171 , -2.2843432 , -0.5239178 ,  2.1355386 , -1.8749834 ],\n",
       "      dtype=float32)"
      ]
     },
     "execution_count": 149,
     "metadata": {},
     "output_type": "execute_result"
    }
   ],
   "source": [
    "model.wv.get_vector('one')"
   ]
  },
  {
   "cell_type": "code",
   "execution_count": 133,
   "metadata": {},
   "outputs": [
    {
     "data": {
      "text/plain": [
       "100"
      ]
     },
     "execution_count": 133,
     "metadata": {},
     "output_type": "execute_result"
    }
   ],
   "source": [
    "len(model.wv.get_vector('one'))"
   ]
  },
  {
   "cell_type": "markdown",
   "metadata": {},
   "source": [
    "### Distance from mean"
   ]
  },
  {
   "cell_type": "code",
   "execution_count": 145,
   "metadata": {},
   "outputs": [
    {
     "data": {
      "text/plain": [
       "\u001b[0;31mSignature:\u001b[0m \u001b[0mmodel\u001b[0m\u001b[0;34m.\u001b[0m\u001b[0mwv\u001b[0m\u001b[0;34m.\u001b[0m\u001b[0mdoesnt_match\u001b[0m\u001b[0;34m(\u001b[0m\u001b[0mwords\u001b[0m\u001b[0;34m)\u001b[0m\u001b[0;34m\u001b[0m\u001b[0m\n",
       "\u001b[0;31mDocstring:\u001b[0m\n",
       "Which word from the given list doesn't go with the others?\n",
       "\n",
       "Parameters\n",
       "----------\n",
       "words : list of str\n",
       "    List of words.\n",
       "\n",
       "Returns\n",
       "-------\n",
       "str\n",
       "    The word further away from the mean of all words.\n",
       "\u001b[0;31mFile:\u001b[0m      ~/programming/python/gensim/gensim/models/keyedvectors.py\n",
       "\u001b[0;31mType:\u001b[0m      method\n"
      ]
     },
     "metadata": {},
     "output_type": "display_data"
    }
   ],
   "source": [
    "model.wv.doesnt_match?"
   ]
  },
  {
   "cell_type": "code",
   "execution_count": 81,
   "metadata": {},
   "outputs": [
    {
     "name": "stderr",
     "output_type": "stream",
     "text": [
      "2018-10-30 11:22:58,007 : INFO : precomputing L2-norms of word weight vectors\n",
      "/home/milton/programming/python/gensim/gensim/matutils.py:737: FutureWarning: Conversion of the second argument of issubdtype from `int` to `np.signedinteger` is deprecated. In future, it will be treated as `np.int64 == np.dtype(int).type`.\n",
      "  if np.issubdtype(vec.dtype, np.int):\n"
     ]
    },
    {
     "data": {
      "text/plain": [
       "'cereal'"
      ]
     },
     "execution_count": 81,
     "metadata": {},
     "output_type": "execute_result"
    }
   ],
   "source": [
    "# find word in list that is farthest from the mean\n",
    "model.wv.doesnt_match(\"breakfast cereal dinner lunch\".split())"
   ]
  },
  {
   "cell_type": "code",
   "execution_count": 151,
   "metadata": {},
   "outputs": [
    {
     "name": "stderr",
     "output_type": "stream",
     "text": [
      "/home/milton/programming/python/gensim/gensim/matutils.py:737: FutureWarning: Conversion of the second argument of issubdtype from `int` to `np.signedinteger` is deprecated. In future, it will be treated as `np.int64 == np.dtype(int).type`.\n",
      "  if np.issubdtype(vec.dtype, np.int):\n"
     ]
    },
    {
     "data": {
      "text/plain": [
       "'sport'"
      ]
     },
     "execution_count": 151,
     "metadata": {},
     "output_type": "execute_result"
    }
   ],
   "source": [
    "model.wv.doesnt_match(\"cook janitor pilot sport teacher\".split())"
   ]
  },
  {
   "cell_type": "code",
   "execution_count": 154,
   "metadata": {},
   "outputs": [
    {
     "name": "stderr",
     "output_type": "stream",
     "text": [
      "/home/milton/programming/python/gensim/gensim/matutils.py:737: FutureWarning: Conversion of the second argument of issubdtype from `int` to `np.signedinteger` is deprecated. In future, it will be treated as `np.int64 == np.dtype(int).type`.\n",
      "  if np.issubdtype(vec.dtype, np.int):\n"
     ]
    },
    {
     "data": {
      "text/plain": [
       "'time'"
      ]
     },
     "execution_count": 154,
     "metadata": {},
     "output_type": "execute_result"
    }
   ],
   "source": [
    "model.wv.doesnt_match(\"joy time peace angst\".split())"
   ]
  },
  {
   "cell_type": "code",
   "execution_count": 153,
   "metadata": {},
   "outputs": [
    {
     "name": "stderr",
     "output_type": "stream",
     "text": [
      "/home/milton/programming/python/gensim/gensim/matutils.py:737: FutureWarning: Conversion of the second argument of issubdtype from `int` to `np.signedinteger` is deprecated. In future, it will be treated as `np.int64 == np.dtype(int).type`.\n",
      "  if np.issubdtype(vec.dtype, np.int):\n"
     ]
    },
    {
     "data": {
      "text/plain": [
       "'peace'"
      ]
     },
     "execution_count": 153,
     "metadata": {},
     "output_type": "execute_result"
    }
   ],
   "source": [
    "model.wv.doesnt_match(\"joy timely peace angst\".split())"
   ]
  },
  {
   "cell_type": "code",
   "execution_count": 156,
   "metadata": {},
   "outputs": [
    {
     "name": "stderr",
     "output_type": "stream",
     "text": [
      "/home/milton/programming/python/gensim/gensim/matutils.py:737: FutureWarning: Conversion of the second argument of issubdtype from `int` to `np.signedinteger` is deprecated. In future, it will be treated as `np.int64 == np.dtype(int).type`.\n",
      "  if np.issubdtype(vec.dtype, np.int):\n"
     ]
    },
    {
     "data": {
      "text/plain": [
       "'peace'"
      ]
     },
     "execution_count": 156,
     "metadata": {},
     "output_type": "execute_result"
    }
   ],
   "source": [
    "model.wv.doesnt_match(\"joy peace angst\".split())"
   ]
  },
  {
   "cell_type": "markdown",
   "metadata": {},
   "source": [
    "## Similarity"
   ]
  },
  {
   "cell_type": "markdown",
   "metadata": {},
   "source": [
    "### Cosine similarity"
   ]
  },
  {
   "cell_type": "code",
   "execution_count": 64,
   "metadata": {},
   "outputs": [
    {
     "name": "stderr",
     "output_type": "stream",
     "text": [
      "/home/milton/programming/python/gensim/gensim/matutils.py:737: FutureWarning: Conversion of the second argument of issubdtype from `int` to `np.signedinteger` is deprecated. In future, it will be treated as `np.int64 == np.dtype(int).type`.\n",
      "  if np.issubdtype(vec.dtype, np.int):\n"
     ]
    },
    {
     "data": {
      "text/plain": [
       "0.72653675"
      ]
     },
     "execution_count": 64,
     "metadata": {},
     "output_type": "execute_result"
    }
   ],
   "source": [
    "model.wv.similarity('woman', 'man')"
   ]
  },
  {
   "cell_type": "code",
   "execution_count": 65,
   "metadata": {},
   "outputs": [
    {
     "name": "stderr",
     "output_type": "stream",
     "text": [
      "/home/milton/programming/python/gensim/gensim/matutils.py:737: FutureWarning: Conversion of the second argument of issubdtype from `int` to `np.signedinteger` is deprecated. In future, it will be treated as `np.int64 == np.dtype(int).type`.\n",
      "  if np.issubdtype(vec.dtype, np.int):\n"
     ]
    },
    {
     "data": {
      "text/plain": [
       "0.2849955"
      ]
     },
     "execution_count": 65,
     "metadata": {},
     "output_type": "execute_result"
    }
   ],
   "source": [
    "model.wv.similarity('woman', 'tree')"
   ]
  },
  {
   "cell_type": "code",
   "execution_count": 66,
   "metadata": {},
   "outputs": [
    {
     "name": "stderr",
     "output_type": "stream",
     "text": [
      "/home/milton/programming/python/gensim/gensim/matutils.py:737: FutureWarning: Conversion of the second argument of issubdtype from `int` to `np.signedinteger` is deprecated. In future, it will be treated as `np.int64 == np.dtype(int).type`.\n",
      "  if np.issubdtype(vec.dtype, np.int):\n"
     ]
    },
    {
     "data": {
      "text/plain": [
       "0.22460887"
      ]
     },
     "execution_count": 66,
     "metadata": {},
     "output_type": "execute_result"
    }
   ],
   "source": [
    "model.wv.similarity('tree', 'man')"
   ]
  },
  {
   "cell_type": "code",
   "execution_count": 67,
   "metadata": {},
   "outputs": [
    {
     "name": "stderr",
     "output_type": "stream",
     "text": [
      "/home/milton/programming/python/gensim/gensim/matutils.py:737: FutureWarning: Conversion of the second argument of issubdtype from `int` to `np.signedinteger` is deprecated. In future, it will be treated as `np.int64 == np.dtype(int).type`.\n",
      "  if np.issubdtype(vec.dtype, np.int):\n"
     ]
    },
    {
     "data": {
      "text/plain": [
       "0.7150045037269592"
      ]
     },
     "execution_count": 67,
     "metadata": {},
     "output_type": "execute_result"
    }
   ],
   "source": [
    "model.wv.distance('woman', 'tree')"
   ]
  },
  {
   "cell_type": "code",
   "execution_count": 70,
   "metadata": {},
   "outputs": [
    {
     "name": "stderr",
     "output_type": "stream",
     "text": [
      "/home/milton/programming/python/gensim/gensim/matutils.py:737: FutureWarning: Conversion of the second argument of issubdtype from `int` to `np.signedinteger` is deprecated. In future, it will be treated as `np.int64 == np.dtype(int).type`.\n",
      "  if np.issubdtype(vec.dtype, np.int):\n"
     ]
    },
    {
     "data": {
      "text/plain": [
       "1.0"
      ]
     },
     "execution_count": 70,
     "metadata": {},
     "output_type": "execute_result"
    }
   ],
   "source": [
    "model.wv.distance('woman', 'tree') + model.wv.similarity('woman', 'tree')"
   ]
  },
  {
   "cell_type": "code",
   "execution_count": 104,
   "metadata": {},
   "outputs": [
    {
     "name": "stderr",
     "output_type": "stream",
     "text": [
      "/home/milton/programming/python/gensim/gensim/matutils.py:737: FutureWarning: Conversion of the second argument of issubdtype from `int` to `np.signedinteger` is deprecated. In future, it will be treated as `np.int64 == np.dtype(int).type`.\n",
      "  if np.issubdtype(vec.dtype, np.int):\n"
     ]
    },
    {
     "data": {
      "text/plain": [
       "[('child', 0.803389310836792), ('girl', 0.7806227207183838), ('man', 0.7265368103981018), ('lady', 0.6917918920516968), ('mother', 0.6886497139930725), ('person', 0.6598984003067017), ('baby', 0.6564351320266724), ('herself', 0.6543370485305786), ('husband', 0.6536892652511597), ('wife', 0.6529605388641357)]"
      ]
     },
     "execution_count": 104,
     "metadata": {},
     "output_type": "execute_result"
    }
   ],
   "source": [
    "# closest by cosine similarity\n",
    "model.wv.similar_by_word('woman', topn=10)"
   ]
  },
  {
   "cell_type": "code",
   "execution_count": 159,
   "metadata": {},
   "outputs": [
    {
     "name": "stderr",
     "output_type": "stream",
     "text": [
      "/home/milton/programming/python/gensim/gensim/matutils.py:737: FutureWarning: Conversion of the second argument of issubdtype from `int` to `np.signedinteger` is deprecated. In future, it will be treated as `np.int64 == np.dtype(int).type`.\n",
      "  if np.issubdtype(vec.dtype, np.int):\n"
     ]
    },
    {
     "data": {
      "text/plain": [
       "[('he', 0.8074591159820557), ('herself', 0.7436536550521851), ('her', 0.7007310390472412), ('leto', 0.6273062825202942), ('odrade', 0.6170876026153564), ('nobody', 0.6088880896568298), ('rachel', 0.6057782769203186), ('him', 0.5911742448806763), ('baldrick', 0.5856796503067017), ('alia', 0.5799418687820435)]"
      ]
     },
     "execution_count": 159,
     "metadata": {},
     "output_type": "execute_result"
    }
   ],
   "source": [
    "# closest by cosine similarity\n",
    "model.wv.similar_by_word('she', topn=10)"
   ]
  },
  {
   "cell_type": "code",
   "execution_count": 160,
   "metadata": {},
   "outputs": [
    {
     "data": {
      "text/plain": [
       "\u001b[0;31mSignature:\u001b[0m \u001b[0mmodel\u001b[0m\u001b[0;34m.\u001b[0m\u001b[0mwv\u001b[0m\u001b[0;34m.\u001b[0m\u001b[0mmost_similar\u001b[0m\u001b[0;34m(\u001b[0m\u001b[0mpositive\u001b[0m\u001b[0;34m=\u001b[0m\u001b[0;32mNone\u001b[0m\u001b[0;34m,\u001b[0m \u001b[0mnegative\u001b[0m\u001b[0;34m=\u001b[0m\u001b[0;32mNone\u001b[0m\u001b[0;34m,\u001b[0m \u001b[0mtopn\u001b[0m\u001b[0;34m=\u001b[0m\u001b[0;36m10\u001b[0m\u001b[0;34m,\u001b[0m \u001b[0mrestrict_vocab\u001b[0m\u001b[0;34m=\u001b[0m\u001b[0;32mNone\u001b[0m\u001b[0;34m,\u001b[0m \u001b[0mindexer\u001b[0m\u001b[0;34m=\u001b[0m\u001b[0;32mNone\u001b[0m\u001b[0;34m)\u001b[0m\u001b[0;34m\u001b[0m\u001b[0m\n",
       "\u001b[0;31mDocstring:\u001b[0m\n",
       "Find the top-N most similar words.\n",
       "Positive words contribute positively towards the similarity, negative words negatively.\n",
       "\n",
       "This method computes cosine similarity between a simple mean of the projection\n",
       "weight vectors of the given words and the vectors for each word in the model.\n",
       "The method corresponds to the `word-analogy` and `distance` scripts in the original\n",
       "word2vec implementation.\n",
       "\n",
       "Parameters\n",
       "----------\n",
       "positive : list of str, optional\n",
       "    List of words that contribute positively.\n",
       "negative : list of str, optional\n",
       "    List of words that contribute negatively.\n",
       "topn : int, optional\n",
       "    Number of top-N similar words to return.\n",
       "restrict_vocab : int, optional\n",
       "    Optional integer which limits the range of vectors which\n",
       "    are searched for most-similar values. For example, restrict_vocab=10000 would\n",
       "    only check the first 10000 word vectors in the vocabulary order. (This may be\n",
       "    meaningful if you've sorted the vocabulary by descending frequency.)\n",
       "\n",
       "Returns\n",
       "-------\n",
       "list of (str, float)\n",
       "    Sequence of (word, similarity).\n",
       "\u001b[0;31mFile:\u001b[0m      ~/programming/python/gensim/gensim/models/keyedvectors.py\n",
       "\u001b[0;31mType:\u001b[0m      method\n"
      ]
     },
     "metadata": {},
     "output_type": "display_data"
    }
   ],
   "source": [
    "model.wv.most_similar?"
   ]
  },
  {
   "cell_type": "code",
   "execution_count": 86,
   "metadata": {},
   "outputs": [
    {
     "name": "stderr",
     "output_type": "stream",
     "text": [
      "/home/milton/programming/python/gensim/gensim/matutils.py:737: FutureWarning: Conversion of the second argument of issubdtype from `int` to `np.signedinteger` is deprecated. In future, it will be treated as `np.int64 == np.dtype(int).type`.\n",
      "  if np.issubdtype(vec.dtype, np.int):\n"
     ]
    },
    {
     "data": {
      "text/plain": [
       "[('child', 0.803389310836792), ('girl', 0.7806227207183838), ('man', 0.7265368103981018), ('lady', 0.6917918920516968), ('mother', 0.6886497139930725), ('person', 0.6598984003067017), ('baby', 0.6564351320266724), ('herself', 0.6543370485305786), ('husband', 0.6536892652511597), ('wife', 0.6529605388641357)]"
      ]
     },
     "execution_count": 86,
     "metadata": {},
     "output_type": "execute_result"
    }
   ],
   "source": [
    "model.wv.most_similar(positive=['woman'], topn=10)"
   ]
  },
  {
   "cell_type": "code",
   "execution_count": 87,
   "metadata": {},
   "outputs": [
    {
     "name": "stderr",
     "output_type": "stream",
     "text": [
      "/home/milton/programming/python/gensim/gensim/matutils.py:737: FutureWarning: Conversion of the second argument of issubdtype from `int` to `np.signedinteger` is deprecated. In future, it will be treated as `np.int64 == np.dtype(int).type`.\n",
      "  if np.issubdtype(vec.dtype, np.int):\n"
     ]
    },
    {
     "data": {
      "text/plain": [
       "[('radiocommunications', 0.43596065044403076), ('holography', 0.4359170198440552), ('hockenheim', 0.43065929412841797), ('airfares', 0.42763426899909973), ('automation', 0.4126434624195099), ('circuits', 0.4109076261520386), ('skywalk', 0.40816304087638855), ('sanskriti', 0.4081246852874756), ('chelyabinsk', 0.4032770097255707), ('cirrus', 0.40157902240753174)]"
      ]
     },
     "execution_count": 87,
     "metadata": {},
     "output_type": "execute_result"
    }
   ],
   "source": [
    "model.wv.most_similar(negative=['woman'], topn=10)"
   ]
  },
  {
   "cell_type": "code",
   "execution_count": 88,
   "metadata": {},
   "outputs": [
    {
     "name": "stderr",
     "output_type": "stream",
     "text": [
      "/home/milton/programming/python/gensim/gensim/matutils.py:737: FutureWarning: Conversion of the second argument of issubdtype from `int` to `np.signedinteger` is deprecated. In future, it will be treated as `np.int64 == np.dtype(int).type`.\n",
      "  if np.issubdtype(vec.dtype, np.int):\n"
     ]
    },
    {
     "data": {
      "text/plain": [
       "[('son', 0.7318000793457031), ('queen', 0.7241658568382263), ('princess', 0.7143644690513611), ('lady', 0.7017467617988586), ('daughter', 0.6962923407554626), ('prince', 0.6942224502563477), ('wife', 0.6774018406867981), ('bride', 0.6752276420593262), ('child', 0.6582358479499817), ('husband', 0.6561128497123718)]"
      ]
     },
     "execution_count": 88,
     "metadata": {},
     "output_type": "execute_result"
    }
   ],
   "source": [
    "model.wv.most_similar(positive=['woman', 'king'], topn=10)"
   ]
  },
  {
   "cell_type": "code",
   "execution_count": 89,
   "metadata": {},
   "outputs": [
    {
     "name": "stderr",
     "output_type": "stream",
     "text": [
      "/home/milton/programming/python/gensim/gensim/matutils.py:737: FutureWarning: Conversion of the second argument of issubdtype from `int` to `np.signedinteger` is deprecated. In future, it will be treated as `np.int64 == np.dtype(int).type`.\n",
      "  if np.issubdtype(vec.dtype, np.int):\n"
     ]
    },
    {
     "data": {
      "text/plain": [
       "[('queen', 0.7056832909584045), ('empress', 0.6462346315383911), ('throne', 0.6235172748565674), ('son', 0.6209807395935059), ('princess', 0.6190495491027832), ('prince', 0.6166723966598511), ('elizabeth', 0.6093157529830933), ('emperor', 0.59967041015625), ('daughter', 0.5950674414634705), ('regent', 0.5876128077507019)]"
      ]
     },
     "execution_count": 89,
     "metadata": {},
     "output_type": "execute_result"
    }
   ],
   "source": [
    "model.wv.most_similar(positive=['woman', 'king'], negative=['man'], topn=10)"
   ]
  },
  {
   "cell_type": "markdown",
   "metadata": {},
   "source": [
    "### Multiplicative combination"
   ]
  },
  {
   "cell_type": "code",
   "execution_count": 161,
   "metadata": {},
   "outputs": [
    {
     "data": {
      "text/plain": [
       "\u001b[0;31mSignature:\u001b[0m \u001b[0mmodel\u001b[0m\u001b[0;34m.\u001b[0m\u001b[0mwv\u001b[0m\u001b[0;34m.\u001b[0m\u001b[0mmost_similar_cosmul\u001b[0m\u001b[0;34m(\u001b[0m\u001b[0mpositive\u001b[0m\u001b[0;34m=\u001b[0m\u001b[0;32mNone\u001b[0m\u001b[0;34m,\u001b[0m \u001b[0mnegative\u001b[0m\u001b[0;34m=\u001b[0m\u001b[0;32mNone\u001b[0m\u001b[0;34m,\u001b[0m \u001b[0mtopn\u001b[0m\u001b[0;34m=\u001b[0m\u001b[0;36m10\u001b[0m\u001b[0;34m)\u001b[0m\u001b[0;34m\u001b[0m\u001b[0m\n",
       "\u001b[0;31mDocstring:\u001b[0m\n",
       "Find the top-N most similar words, using the multiplicative combination objective,\n",
       "proposed by `Omer Levy and Yoav Goldberg \"Linguistic Regularities in Sparse and Explicit Word Representations\"\n",
       "<http://www.aclweb.org/anthology/W14-1618>`_. Positive words still contribute positively towards the similarity,\n",
       "negative words negatively, but with less susceptibility to one large distance dominating the calculation.\n",
       "In the common analogy-solving case, of two positive and one negative examples,\n",
       "this method is equivalent to the \"3CosMul\" objective (equation (4)) of Levy and Goldberg.\n",
       "\n",
       "Additional positive or negative examples contribute to the numerator or denominator,\n",
       "respectively - a potentially sensible but untested extension of the method.\n",
       "With a single positive example, rankings will be the same as in the default\n",
       ":meth:`~gensim.models.keyedvectors.WordEmbeddingsKeyedVectors.most_similar`.\n",
       "\n",
       "Parameters\n",
       "----------\n",
       "positive : list of str, optional\n",
       "    List of words that contribute positively.\n",
       "negative : list of str, optional\n",
       "    List of words that contribute negatively.\n",
       "topn : int, optional\n",
       "    Number of top-N similar words to return.\n",
       "\n",
       "Returns\n",
       "-------\n",
       "list of (str, float)\n",
       "    Sequence of (word, similarity).\n",
       "\u001b[0;31mFile:\u001b[0m      ~/programming/python/gensim/gensim/models/keyedvectors.py\n",
       "\u001b[0;31mType:\u001b[0m      method\n"
      ]
     },
     "metadata": {},
     "output_type": "display_data"
    }
   ],
   "source": [
    "model.wv.most_similar_cosmul?"
   ]
  },
  {
   "cell_type": "code",
   "execution_count": 134,
   "metadata": {},
   "outputs": [
    {
     "name": "stderr",
     "output_type": "stream",
     "text": [
      "2018-10-30 20:21:22,155 : INFO : precomputing L2-norms of word weight vectors\n"
     ]
    },
    {
     "data": {
      "text/plain": [
       "[('queen', 0.9123514890670776), ('empress', 0.8933207988739014), ('princess', 0.8767482042312622), ('daughter', 0.873872697353363), ('elizabeth', 0.8636165857315063), ('son', 0.8565146923065186), ('throne', 0.8526657819747925), ('wife', 0.8484319448471069), ('matilda', 0.8467848896980286), ('mary', 0.8464444875717163)]"
      ]
     },
     "execution_count": 134,
     "metadata": {},
     "output_type": "execute_result"
    }
   ],
   "source": [
    "model.wv.most_similar_cosmul(positive=['woman', 'king'], negative=['man'], topn=10)"
   ]
  },
  {
   "cell_type": "code",
   "execution_count": 89,
   "metadata": {},
   "outputs": [
    {
     "name": "stderr",
     "output_type": "stream",
     "text": [
      "/home/milton/programming/python/gensim/gensim/matutils.py:737: FutureWarning: Conversion of the second argument of issubdtype from `int` to `np.signedinteger` is deprecated. In future, it will be treated as `np.int64 == np.dtype(int).type`.\n",
      "  if np.issubdtype(vec.dtype, np.int):\n"
     ]
    },
    {
     "data": {
      "text/plain": [
       "[('queen', 0.7056832909584045), ('empress', 0.6462346315383911), ('throne', 0.6235172748565674), ('son', 0.6209807395935059), ('princess', 0.6190495491027832), ('prince', 0.6166723966598511), ('elizabeth', 0.6093157529830933), ('emperor', 0.59967041015625), ('daughter', 0.5950674414634705), ('regent', 0.5876128077507019)]"
      ]
     },
     "execution_count": 89,
     "metadata": {},
     "output_type": "execute_result"
    }
   ],
   "source": [
    "model.wv.most_similar(positive=['woman', 'king'], negative=['man'], topn=10)"
   ]
  },
  {
   "cell_type": "code",
   "execution_count": 162,
   "metadata": {},
   "outputs": [
    {
     "data": {
      "text/plain": [
       "[('princess', 0.5984137654304504), ('queen', 0.5973829030990601), ('son', 0.5964484214782715), ('lady', 0.5870946049690247), ('lover', 0.5867147445678711), ('daughter', 0.5812955498695374), ('wife', 0.572877824306488), ('bride', 0.5694237351417542), ('consort', 0.5694111585617065), ('heir', 0.5631678700447083)]"
      ]
     },
     "execution_count": 162,
     "metadata": {},
     "output_type": "execute_result"
    }
   ],
   "source": [
    "model.wv.most_similar_cosmul(positive=['woman', 'king'], topn=10)"
   ]
  },
  {
   "cell_type": "code",
   "execution_count": 163,
   "metadata": {},
   "outputs": [
    {
     "name": "stderr",
     "output_type": "stream",
     "text": [
      "/home/milton/programming/python/gensim/gensim/matutils.py:737: FutureWarning: Conversion of the second argument of issubdtype from `int` to `np.signedinteger` is deprecated. In future, it will be treated as `np.int64 == np.dtype(int).type`.\n",
      "  if np.issubdtype(vec.dtype, np.int):\n"
     ]
    },
    {
     "data": {
      "text/plain": [
       "[('queen', 0.7054295539855957), ('princess', 0.6987999677658081), ('son', 0.6968942880630493), ('lover', 0.6871877908706665), ('lady', 0.6871306896209717), ('daughter', 0.6713993549346924), ('wife', 0.6602763533592224), ('bride', 0.6555007696151733), ('man', 0.6524356007575989), ('consort', 0.6515148282051086)]"
      ]
     },
     "execution_count": 163,
     "metadata": {},
     "output_type": "execute_result"
    }
   ],
   "source": [
    "model.wv.most_similar(positive=['woman', 'king'], topn=10)"
   ]
  },
  {
   "cell_type": "code",
   "execution_count": null,
   "metadata": {},
   "outputs": [],
   "source": []
  },
  {
   "cell_type": "code",
   "execution_count": null,
   "metadata": {},
   "outputs": [],
   "source": []
  },
  {
   "cell_type": "markdown",
   "metadata": {},
   "source": [
    "\n",
    "[<img style=\"float: left;\" src=\"https://i.creativecommons.org/l/by-sa/4.0/88x31.png\">](http://creativecommons.org/licenses/by-sa/4.0/)  \n",
    "\n",
    "Licensed under a [Creative Commons Attribution-ShareAlike 4.0 International License](http://creativecommons.org/licenses/by-sa/4.0/)."
   ]
  }
 ],
 "metadata": {
  "kernelspec": {
   "display_name": "Python 3",
   "language": "python",
   "name": "python3"
  },
  "language_info": {
   "codemirror_mode": {
    "name": "ipython",
    "version": 3
   },
   "file_extension": ".py",
   "mimetype": "text/x-python",
   "name": "python",
   "nbconvert_exporter": "python",
   "pygments_lexer": "ipython3",
   "version": "3.6.4"
  }
 },
 "nbformat": 4,
 "nbformat_minor": 2
}
